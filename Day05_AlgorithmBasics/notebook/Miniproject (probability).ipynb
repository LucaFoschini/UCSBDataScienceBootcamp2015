{
 "cells": [
  {
   "cell_type": "markdown",
   "metadata": {},
   "source": [
    "## The Kinda Malicious Scientist\n",
    "\n",
    "Your algorithm is able to detect a malware in a dataset with 50% chance. Not great. Basically, it's no better than flipping a coin.\n",
    "\n",
    "However, the deadline is approaching and you need to submit that paper. You have a set of datasets for which you know the ground truth (i.e., whether the malware is present or not) and you need to decide which one to include in the experimental section of your paper.\n",
    "\n",
    "You start from testing you algorithm on a first dataset: it fails to detect the malware. Your ethical conduit prevents \n",
    "you from excluding any dataset you've tried from the analysis. So you decide to test another one. It works! Then another one: it works again: 66% detection rate (2/3)! How many datasets should you test before you stop, if you want to maximize the detection rate? In addition, for whatever stopping rule you decide do adopt, what is the detection rate you'd obtain in expectation if you repeat the same exercise many times?\n",
    "\n",
    "In other words: if you flip a coin until you decide to stop and you want to maximize the ratio of heads to total flips, what is that expected ratio you obtain?"
   ]
  },
  {
   "cell_type": "code",
   "execution_count": null,
   "metadata": {
    "collapsed": true
   },
   "outputs": [],
   "source": []
  }
 ],
 "metadata": {
  "kernelspec": {
   "display_name": "Python 2",
   "language": "python",
   "name": "python2"
  },
  "language_info": {
   "codemirror_mode": {
    "name": "ipython",
    "version": 2
   },
   "file_extension": ".py",
   "mimetype": "text/x-python",
   "name": "python",
   "nbconvert_exporter": "python",
   "pygments_lexer": "ipython2",
   "version": "2.7.10"
  }
 },
 "nbformat": 4,
 "nbformat_minor": 0
}
