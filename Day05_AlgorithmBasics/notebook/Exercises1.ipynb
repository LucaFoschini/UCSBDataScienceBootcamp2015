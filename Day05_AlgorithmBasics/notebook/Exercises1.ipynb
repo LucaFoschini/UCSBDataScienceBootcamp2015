{
 "cells": [
  {
   "cell_type": "code",
   "execution_count": 6,
   "metadata": {
    "collapsed": false
   },
   "outputs": [],
   "source": [
    "import numpy\n",
    "import datetime\n",
    "from IPython.html.widgets import interact\n",
    "\n",
    "#timing function\n",
    "\n",
    "def time_sort(nn, f):\n",
    "    before = datetime.datetime.now()\n",
    "    n_runs = 100\n",
    "    for i in range(n_runs):\n",
    "        f(nn)\n",
    "        print \"Took \", (datetime.datetime.now() - before).microseconds/float(n_runs), \"microseconds\""
   ]
  },
  {
   "cell_type": "code",
   "execution_count": 9,
   "metadata": {
    "collapsed": true
   },
   "outputs": [],
   "source": [
    "#wrapper utilities\n",
    "\n",
    "def simple_sort(nn):\n",
    "    l = numpy.random.rand(nn); \n",
    "    l.sort()\n",
    "\n",
    "def time_simple_sort_wrapper(nn):\n",
    "    time_sort(nn, simple_sort)\n"
   ]
  },
  {
   "cell_type": "code",
   "execution_count": 11,
   "metadata": {
    "collapsed": false
   },
   "outputs": [
    {
     "name": "stdout",
     "output_type": "stream",
     "text": [
      "Took  6387.09 microseconds\n"
     ]
    }
   ],
   "source": [
    "#explore different parameters\n",
    "interact(time_simple_sort_wrapper, nn=(100,1000000,10000));\n",
    " "
   ]
  },
  {
   "cell_type": "markdown",
   "metadata": {},
   "source": [
    "## Counting Sort\n",
    "\n",
    "Implement the couting sort algorithm, compare with standard sort."
   ]
  },
  {
   "cell_type": "code",
   "execution_count": null,
   "metadata": {
    "collapsed": true
   },
   "outputs": [],
   "source": []
  },
  {
   "cell_type": "markdown",
   "metadata": {},
   "source": [
    "# Fisher-Yates Sampler\n",
    "\n",
    "Implement the Fisher Yates sampler, compare with naive swapping"
   ]
  },
  {
   "cell_type": "code",
   "execution_count": null,
   "metadata": {
    "collapsed": true
   },
   "outputs": [],
   "source": []
  },
  {
   "cell_type": "markdown",
   "metadata": {},
   "source": [
    "#Peak finding\n",
    "\n",
    "Implement the peak finding algorithm, in three variations"
   ]
  },
  {
   "cell_type": "code",
   "execution_count": null,
   "metadata": {
    "collapsed": true
   },
   "outputs": [],
   "source": []
  }
 ],
 "metadata": {
  "kernelspec": {
   "display_name": "Python 2",
   "language": "python",
   "name": "python2"
  },
  "language_info": {
   "codemirror_mode": {
    "name": "ipython",
    "version": 2
   },
   "file_extension": ".py",
   "mimetype": "text/x-python",
   "name": "python",
   "nbconvert_exporter": "python",
   "pygments_lexer": "ipython2",
   "version": "2.7.10"
  }
 },
 "nbformat": 4,
 "nbformat_minor": 0
}
