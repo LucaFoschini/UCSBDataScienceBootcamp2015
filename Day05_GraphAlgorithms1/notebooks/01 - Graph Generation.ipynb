{
 "metadata": {
  "name": "",
  "signature": "sha256:f432931f02cfecfe6a27ff273952c574cc18b6fcc8d57e4f3023cde9ea295bec"
 },
 "nbformat": 3,
 "nbformat_minor": 0,
 "worksheets": [
  {
   "cells": [
    {
     "cell_type": "markdown",
     "metadata": {},
     "source": [
      "# Graph Generation\n",
      "\n",
      "Generate a graph for a given degree distribution.\n",
      "Example: D = [3,3,2,2,1]\n",
      "\n",
      "Is it possible to do for any sequence D?"
     ]
    },
    {
     "cell_type": "code",
     "collapsed": false,
     "input": [],
     "language": "python",
     "metadata": {},
     "outputs": []
    },
    {
     "cell_type": "markdown",
     "metadata": {},
     "source": [
      "# Generate a 2-colorable graph, and a 3-colorable graph"
     ]
    },
    {
     "cell_type": "code",
     "collapsed": false,
     "input": [],
     "language": "python",
     "metadata": {},
     "outputs": []
    },
    {
     "cell_type": "markdown",
     "metadata": {},
     "source": [
      "# Generate a graph $G(n, p)$ in the Erd\u0151s\u2013R\u00e9nyi for different p\n",
      "\n",
      "Use *interact()* to vary p, and print the size of the largest connected component when varying $p$"
     ]
    },
    {
     "cell_type": "code",
     "collapsed": false,
     "input": [],
     "language": "python",
     "metadata": {},
     "outputs": []
    }
   ],
   "metadata": {}
  }
 ]
}