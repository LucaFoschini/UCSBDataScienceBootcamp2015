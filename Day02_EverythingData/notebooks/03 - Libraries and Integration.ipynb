{
 "metadata": {
  "name": "",
  "signature": "sha256:a92d3a38ee3fd9d8fa480c11a411049d4fd73908c26557d4b42d35e894befd23"
 },
 "nbformat": 3,
 "nbformat_minor": 0,
 "worksheets": [
  {
   "cells": [
    {
     "cell_type": "markdown",
     "metadata": {},
     "source": [
      "# API\n",
      "\n",
      "It's safe to say that every internet service has an API for Python:\n",
      "\n",
      "Examples: \n",
      " - Weather : https://github.com/csparpa/pyowm\n",
      " - Twitter: https://code.google.com/p/python-twitter/ \n",
      " - Fitbit: https://github.com/orcasgit/python-fitbit"
     ]
    },
    {
     "cell_type": "markdown",
     "metadata": {},
     "source": [
      "# Many Domain Specific Librariies\n",
      "\n",
      " - Natural Language Processing: http://www.nltk.org/ [Run the tutorial], see also : http://fbkarsdorp.github.io/python-course/\n",
      " - Graphs:  http://networkx.github.io/documentation/latest/gallery.html\n",
      " - Machine Learning: http://scikit-learn.org/stable/auto_examples/manifold/plot_lle_digits.html [Run the example]"
     ]
    },
    {
     "cell_type": "markdown",
     "metadata": {},
     "source": [
      "# Exotic:\n",
      " - Deep Learning: http://deeplearning.net/software/theano/\n",
      " - Survival analysis: https://github.com/CamDavidsonPilon/lifelines\n",
      " - Bayesian inference and MCMC: http://pymcmc.readthedocs.org/en/latest/\n"
     ]
    },
    {
     "cell_type": "markdown",
     "metadata": {},
     "source": [
      "# Scale:\n",
      "- Multiprocess : http://sebastianraschka.com/Articles/2014_multiprocessing_intro.html [Run the tutorial]\n",
      "- Parallel : http://nbviewer.ipython.org/gist/ogrisel/5115540/Model%20Selection%20for%20the%20Nystroem%20Method.ipynb\n",
      "- Big Data (Spark and BDAS) https://spark.apache.org/examples.html\n"
     ]
    },
    {
     "cell_type": "code",
     "collapsed": false,
     "input": [],
     "language": "python",
     "metadata": {},
     "outputs": []
    }
   ],
   "metadata": {}
  }
 ]
}