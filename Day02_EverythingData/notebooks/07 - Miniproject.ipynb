{
 "metadata": {
  "name": "",
  "signature": "sha256:5cd29f870d8558fda20c94f893e38edf9503576273225de3a4fe5256ca3eafce"
 },
 "nbformat": 3,
 "nbformat_minor": 0,
 "worksheets": [
  {
   "cells": [
    {
     "cell_type": "markdown",
     "metadata": {},
     "source": [
      "# Mini project\n",
      "\n",
      "Extend the analysis provided here:\n",
      "\n",
      "http://nbviewer.ipython.org/github/rossant/ipython-minibook/blob/master/chapter3/303-cities-data-explore.ipynb"
     ]
    },
    {
     "cell_type": "markdown",
     "metadata": {},
     "source": [
      "1. What is the city that has the most other cities in a 10-mile radius from it?\n",
      "2. How many cities have no other city in 10 miles from them? Where are they mostly located?\n",
      "3. What is the distribution of the number of cities within a 10-mile radius from a city? What about varying the radius using interact() ?"
     ]
    },
    {
     "cell_type": "code",
     "collapsed": false,
     "input": [],
     "language": "python",
     "metadata": {},
     "outputs": []
    }
   ],
   "metadata": {}
  }
 ]
}