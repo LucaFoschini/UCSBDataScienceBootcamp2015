{
 "cells": [
  {
   "cell_type": "code",
   "execution_count": 3,
   "metadata": {
    "collapsed": true
   },
   "outputs": [],
   "source": [
    "import networkx as nx\n",
    "\n",
    "#calculate betweenness centrality of node\n",
    "#v in digraph G (label is the label of weight)\n",
    "def betweenness_centrality(G,label,v):\n",
    "    \n",
    "    sum = 0.0\n",
    "    n = len(G.nodes())\n",
    "    for s in G.nodes():\n",
    "        for t in G.nodes():\n",
    "            if (s == v or t == v or s == t):\n",
    "                continue\n",
    "            A = 0\n",
    "            B = 0\n",
    "        \n",
    "            L = nx.all_shortest_paths(G,s,t,weight=label)\n",
    "            try:\n",
    "                for p in L:\n",
    "                    A += 1\n",
    "                    if v in p:\n",
    "                        B += 1\n",
    "            except:\n",
    "                continue\n",
    "            if A > 0:\n",
    "                sum += B/A\n",
    "    return sum / ((n-1)*(n-2))"
   ]
  }
 ],
 "metadata": {
  "kernelspec": {
   "display_name": "Python 2",
   "language": "python",
   "name": "python2"
  },
  "language_info": {
   "codemirror_mode": {
    "name": "ipython",
    "version": 2
   },
   "file_extension": ".py",
   "mimetype": "text/x-python",
   "name": "python",
   "nbconvert_exporter": "python",
   "pygments_lexer": "ipython2",
   "version": "2.7.10"
  }
 },
 "nbformat": 4,
 "nbformat_minor": 0
}
