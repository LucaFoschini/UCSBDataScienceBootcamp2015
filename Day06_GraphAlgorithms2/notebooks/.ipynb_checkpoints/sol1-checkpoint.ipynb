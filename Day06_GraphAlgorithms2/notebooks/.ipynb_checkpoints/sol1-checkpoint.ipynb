{
 "cells": [
  {
   "cell_type": "code",
   "execution_count": null,
   "metadata": {
    "collapsed": true
   },
   "outputs": [],
   "source": [
    "%matplotlib inline\n",
    "import networkx as nx\n",
    "import matplotlib.pyplot as plt\n",
    "from IPython.display import Image\n",
    "\n",
    "\n",
    "#generate a simpler graph for clearer visualization\n",
    "#make sure graph is connected\n",
    "rgraph2 = nx.gnm_random_graph(6,12)\n",
    "\n",
    "T_dfs = nx.dfs_tree(rgraph2,2)\n",
    "all_edges = rgraph2.edges()\n",
    "\n",
    "\n",
    "blue_edges_dfs = T_dfs.edges()\n",
    "red_edges_dfs = [(u,v) for (u,v) in all_edges if (u,v) not in blue_edges_dfs and (v,u) not in blue_edges_dfs]\n",
    "\n",
    "#choose a layout\n",
    "pos=nx.spring_layout(rgraph2) # positions for all nodes\n",
    "\n",
    "# nodes\n",
    "nx.draw_networkx_nodes(rgraph2,pos,node_size=700)\n",
    "\n",
    "# edges\n",
    "nx.draw_networkx_edges(rgraph2,pos,edgelist=red_edges_dfs,edge_color='r',\n",
    "                    width=6)\n",
    "nx.draw_networkx_edges(rgraph2,pos,edgelist=blue_edges_dfs,\n",
    "                    width=6,alpha=0.5,edge_color='b')\n",
    "\n",
    "# labels\n",
    "nx.draw_networkx_labels(rgraph2,pos,font_size=20,)\n",
    "\n",
    "plt.axis('off')\n",
    "plt.savefig(\"dfs_graph.png\") # save as png\n",
    "plt.show() # display\n",
    "\n",
    "\n",
    "T_bfs = nx.bfs_tree(rgraph2,2)\n",
    "blue_edges_bfs = T_bfs.edges()\n",
    "red_edges_bfs = [(u,v) for (u,v) in all_edges if (u,v) not in blue_edges_bfs and (v,u) not in blue_edges_bfs]\n",
    "\n",
    "\n",
    "# nodes\n",
    "nx.draw_networkx_nodes(rgraph2,pos,node_size=700)\n",
    "\n",
    "# edges\n",
    "nx.draw_networkx_edges(rgraph2,pos,edgelist=red_edges_bfs,edge_color='r',\n",
    "                    width=6)\n",
    "nx.draw_networkx_edges(rgraph2,pos,edgelist=blue_edges_bfs,\n",
    "                    width=6,alpha=0.5,edge_color='b')\n",
    "\n",
    "# labels\n",
    "nx.draw_networkx_labels(rgraph2,pos,font_size=20,)\n",
    "\n",
    "plt.axis('off')\n",
    "plt.savefig(\"bfs_graph.png\") # save as png\n",
    "plt.show() # display"
   ]
  }
 ],
 "metadata": {
  "kernelspec": {
   "display_name": "Python 2",
   "language": "python",
   "name": "python2"
  },
  "language_info": {
   "codemirror_mode": {
    "name": "ipython",
    "version": 2
   },
   "file_extension": ".py",
   "mimetype": "text/x-python",
   "name": "python",
   "nbconvert_exporter": "python",
   "pygments_lexer": "ipython2",
   "version": "2.7.10"
  }
 },
 "nbformat": 4,
 "nbformat_minor": 0
}
