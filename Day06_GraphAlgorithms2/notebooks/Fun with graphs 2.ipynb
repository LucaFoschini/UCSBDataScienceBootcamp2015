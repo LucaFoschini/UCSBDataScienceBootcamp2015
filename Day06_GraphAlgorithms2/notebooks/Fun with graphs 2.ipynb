{
 "cells": [
  {
   "cell_type": "markdown",
   "metadata": {},
   "source": [
    "<h1> Directed graphs, weights, shortest paths, APSP </h1>"
   ]
  },
  {
   "cell_type": "code",
   "execution_count": 18,
   "metadata": {
    "collapsed": false
   },
   "outputs": [
    {
     "data": {
      "image/png": "[encoded data removed]",
      "text/plain": [
       "<matplotlib.figure.Figure at 0x6dcc978>"
      ]
     },
     "metadata": {},
     "output_type": "display_data"
    }
   ],
   "source": [
    "%matplotlib inline\n",
    "import networkx as nx\n",
    "import matplotlib.pyplot as plt\n",
    "\n",
    "\n",
    "G = nx.DiGraph()\n",
    "\n",
    "#add some edges with weights\n",
    "G.add_edge(1,2, weight=15)\n",
    "G.add_edge(1,3,weight=1)\n",
    "G.add_edge(1,4,weight=2)\n",
    "G.add_edge(1,6,weight=18)\n",
    "G.add_edge(2,4,weight=1)\n",
    "G.add_edge(2,5,weight=3)\n",
    "G.add_edge(2,6,weight=2)\n",
    "G.add_edge(3,5,weight=8)\n",
    "G.add_edge(3,6,weight=1)\n",
    "G.add_edge(4,5,weight=2)\n",
    "G.add_edge(5,4,weight=3)\n",
    "G.add_edge(5,6,weight=3)\n",
    "G.add_edge(6,7,weight=1)\n",
    "G.add_edge(7,2,weight=1)\n",
    "\n",
    "#visualize this graph\n",
    "pos = nx.spring_layout(G)\n",
    "nx.draw_networkx_nodes(G,pos,node_size=700,node_color='b')\n",
    "nx.draw_networkx_labels(G, pos, font_size=20)\n",
    "nx.draw_networkx_edges(G,pos,edge_color='r',arrow=True)\n",
    "\n",
    "\n",
    "plt.axis('off')\n",
    "plt.savefig(\"weighted_digraph.png\") # save as png\n",
    "plt.show() # display\n"
   ]
  },
  {
   "cell_type": "code",
   "execution_count": 19,
   "metadata": {
    "collapsed": false
   },
   "outputs": [
    {
     "data": {
      "text/plain": [
       "[1, 4, 5]"
      ]
     },
     "execution_count": 19,
     "metadata": {},
     "output_type": "execute_result"
    }
   ],
   "source": [
    "\n",
    "nx.dijkstra_path(G,1,5,weight='weight')"
   ]
  },
  {
   "cell_type": "code",
   "execution_count": 21,
   "metadata": {
    "collapsed": false
   },
   "outputs": [
    {
     "data": {
      "text/plain": [
       "[1, 3, 6, 7]"
      ]
     },
     "execution_count": 21,
     "metadata": {},
     "output_type": "execute_result"
    }
   ],
   "source": [
    "nx.dijkstra_path(G,1,7,weight='weight')"
   ]
  },
  {
   "cell_type": "code",
   "execution_count": 22,
   "metadata": {
    "collapsed": false
   },
   "outputs": [
    {
     "data": {
      "text/plain": [
       "{1: [1],\n",
       " 2: [1, 3, 6, 7, 2],\n",
       " 3: [1, 3],\n",
       " 4: [1, 4],\n",
       " 5: [1, 4, 5],\n",
       " 6: [1, 3, 6],\n",
       " 7: [1, 3, 6, 7]}"
      ]
     },
     "execution_count": 22,
     "metadata": {},
     "output_type": "execute_result"
    }
   ],
   "source": [
    "nx.single_source_dijkstra_path(G,1,weight='weight')"
   ]
  },
  {
   "cell_type": "code",
   "execution_count": 25,
   "metadata": {
    "collapsed": false
   },
   "outputs": [
    {
     "data": {
      "text/plain": [
       "{1: {1: [1],\n",
       "  2: [1, 3, 6, 7, 2],\n",
       "  3: [1, 3],\n",
       "  4: [1, 4],\n",
       "  5: [1, 4, 5],\n",
       "  6: [1, 3, 6],\n",
       "  7: [1, 3, 6, 7]},\n",
       " 2: {2: [2], 4: [2, 4], 5: [2, 5], 6: [2, 6], 7: [2, 6, 7]},\n",
       " 3: {2: [3, 6, 7, 2],\n",
       "  3: [3],\n",
       "  4: [3, 6, 7, 2, 4],\n",
       "  5: [3, 6, 7, 2, 5],\n",
       "  6: [3, 6],\n",
       "  7: [3, 6, 7]},\n",
       " 4: {2: [4, 5, 6, 7, 2], 4: [4], 5: [4, 5], 6: [4, 5, 6], 7: [4, 5, 6, 7]},\n",
       " 5: {2: [5, 6, 7, 2], 4: [5, 4], 5: [5], 6: [5, 6], 7: [5, 6, 7]},\n",
       " 6: {2: [6, 7, 2], 4: [6, 7, 2, 4], 5: [6, 7, 2, 5], 6: [6], 7: [6, 7]},\n",
       " 7: {2: [7, 2], 4: [7, 2, 4], 5: [7, 2, 5], 6: [7, 2, 6], 7: [7]}}"
      ]
     },
     "execution_count": 25,
     "metadata": {},
     "output_type": "execute_result"
    }
   ],
   "source": [
    "nx.all_pairs_dijkstra_path(G,weight='weight')"
   ]
  },
  {
   "cell_type": "code",
   "execution_count": 26,
   "metadata": {
    "collapsed": false
   },
   "outputs": [
    {
     "data": {
      "text/plain": [
       "{1: defaultdict(<function networkx.algorithms.shortest_paths.dense.<lambda>>,\n",
       "             {1: 0, 2: 4, 3: 1, 4: 2, 5: 4, 6: 2, 7: 3}),\n",
       " 2: defaultdict(<function networkx.algorithms.shortest_paths.dense.<lambda>>,\n",
       "             {1: inf, 2: 0, 3: inf, 4: 1, 5: 3, 6: 2, 7: 3}),\n",
       " 3: defaultdict(<function networkx.algorithms.shortest_paths.dense.<lambda>>,\n",
       "             {1: inf, 2: 3, 3: 0, 4: 4, 5: 6, 6: 1, 7: 2}),\n",
       " 4: defaultdict(<function networkx.algorithms.shortest_paths.dense.<lambda>>,\n",
       "             {1: inf, 2: 7, 3: inf, 4: 0, 5: 2, 6: 5, 7: 6}),\n",
       " 5: defaultdict(<function networkx.algorithms.shortest_paths.dense.<lambda>>,\n",
       "             {1: inf, 2: 5, 3: inf, 4: 3, 5: 0, 6: 3, 7: 4}),\n",
       " 6: defaultdict(<function networkx.algorithms.shortest_paths.dense.<lambda>>,\n",
       "             {1: inf, 2: 2, 3: inf, 4: 3, 5: 5, 6: 0, 7: 1}),\n",
       " 7: defaultdict(<function networkx.algorithms.shortest_paths.dense.<lambda>>,\n",
       "             {1: inf, 2: 1, 3: inf, 4: 2, 5: 4, 6: 3, 7: 0})}"
      ]
     },
     "execution_count": 26,
     "metadata": {},
     "output_type": "execute_result"
    }
   ],
   "source": [
    "nx.floyd_warshall(G,weight='weight')"
   ]
  },
  {
   "cell_type": "code",
   "execution_count": 27,
   "metadata": {
    "collapsed": false
   },
   "outputs": [
    {
     "data": {
      "text/plain": [
       "({1: None, 2: 7, 3: 1, 4: 1, 5: 4, 6: 3, 7: 6},\n",
       " {1: 0, 2: 4, 3: 1, 4: 2, 5: 4, 6: 2, 7: 3})"
      ]
     },
     "execution_count": 27,
     "metadata": {},
     "output_type": "execute_result"
    }
   ],
   "source": [
    "nx.bellman_ford(G,1,weight='weight')"
   ]
  },
  {
   "cell_type": "code",
   "execution_count": 67,
   "metadata": {
    "collapsed": false
   },
   "outputs": [
    {
     "data": {
      "text/plain": [
       "{1: 0.0,\n",
       " 2: 0.23333333333333334,\n",
       " 3: 0.1,\n",
       " 4: 0.1,\n",
       " 5: 0.1,\n",
       " 6: 0.36666666666666664,\n",
       " 7: 0.3}"
      ]
     },
     "execution_count": 67,
     "metadata": {},
     "output_type": "execute_result"
    }
   ],
   "source": [
    "nx.betweenness_centrality(G,k=None,weight='weight')"
   ]
  },
  {
   "cell_type": "markdown",
   "metadata": {},
   "source": [
    "<b> Problem 2 : </b> Write your own function to compute betweenness centrality of a node"
   ]
  },
  {
   "cell_type": "markdown",
   "metadata": {},
   "source": [
    "<a href=\"sol2.ipynb\"> Example solution </a>"
   ]
  }
 ],
 "metadata": {
  "kernelspec": {
   "display_name": "Python 2",
   "language": "python",
   "name": "python2"
  },
  "language_info": {
   "codemirror_mode": {
    "name": "ipython",
    "version": 2
   },
   "file_extension": ".py",
   "mimetype": "text/x-python",
   "name": "python",
   "nbconvert_exporter": "python",
   "pygments_lexer": "ipython2",
   "version": "2.7.10"
  }
 },
 "nbformat": 4,
 "nbformat_minor": 0
}
