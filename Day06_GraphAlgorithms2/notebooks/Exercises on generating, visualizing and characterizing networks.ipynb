{
 "cells": [
  {
   "cell_type": "markdown",
   "metadata": {},
   "source": [
    "<h2> TODOs: </h2>\n",
    "\n",
    "Warning: In case you think your data is too large and you cannot compute a given metric, try to provide an alternative solution.\n",
    "\n",
    "Also see <a href=\"Random Graphs.ipynb\"> Random Graphs </a> for examples whenever necessary.\n",
    "<br> <br>\n",
    "\n",
    "\n",
    "\n"
   ]
  },
  {
   "cell_type": "markdown",
   "metadata": {},
   "source": [
    "<b> Problem 3 : </b> - Generate networks with 1K nodes and a similar number of edges using the following models: a) erdos-renyi (random network) b) Small-world c) Barabasi-Albert (Preferential attachment)\n",
    "\n",
    "Resources: https://networkx.github.io/documentation/latest/reference/generators.html\n"
   ]
  },
  {
   "cell_type": "markdown",
   "metadata": {},
   "source": [
    "<b> Problem 4 : </b> Compute following for each of the networks you generated <br/> <br/>\n",
    "    a) Degree distribution <br/>\n",
    "    b) Average clustering coefficient <br/>\n",
    "    c) Diameter <br/>\n",
    "    d) Betweeness-centrality distribution <br/>\n",
    "\n",
    "\n",
    "\n",
    "\n",
    "<b> Resources: </b> <br/>\n",
    "\n",
    "https://networkx.github.io/documentation/latest/examples/graph/degree_sequence.html <br/>\n",
    "http://matplotlib.org/api/pyplot_api.html <br/>\n",
    "http://networkx.lanl.gov/reference/algorithms.centrality.html <br/> http://networkx.lanl.gov/reference/generated/networkx.algorithms.distance_measures.diameter.html <br/>\n",
    "http://networkx.lanl.gov/reference/generated/networkx.algorithms.cluster.average_clustering.html#networkx.algorithms.cluster.average_clustering"
   ]
  },
  {
   "cell_type": "markdown",
   "metadata": {},
   "source": [
    "<b> Problem 5 : </b> Generate a visualization of the networks you have generated.\n",
    "\n",
    "Resources: https://networkx.github.io/documentation/latest/reference/drawing.html"
   ]
  },
  {
   "cell_type": "markdown",
   "metadata": {},
   "source": [
    "<b> Problem 6 : </b> - Read the real graphs from the data files.\n",
    "\n",
    "Resources: http://networkx.lanl.gov/reference/generated/networkx.readwrite.edgelist.read_edgelist.html\n",
    "\n",
    "Sample code: <br/> <br/>\n"
   ]
  },
  {
   "cell_type": "code",
   "execution_count": 3,
   "metadata": {
    "collapsed": false
   },
   "outputs": [
    {
     "name": "stdout",
     "output_type": "stream",
     "text": [
      "Nodes:  [u'1', u'3', u'2', u'4']\n",
      "Edges:  [(u'1', u'2'), (u'1', u'4'), (u'3', u'2'), (u'3', u'4')]\n"
     ]
    }
   ],
   "source": [
    "import networkx as nx\n",
    "file=\"data/graph.edges\"\n",
    "graph = nx.read_edgelist(file)\n",
    "print \"Nodes: \", graph.nodes()\n",
    "print \"Edges: \", graph.edges()"
   ]
  },
  {
   "cell_type": "markdown",
   "metadata": {},
   "source": [
    "<b> Problem 7 : </b> Compute following for each of the networks from the data files <br/> <br/>\n",
    "\n",
    "a) Degree distribution <br/>\n",
    "b) Average clustering coefficient <br/>\n",
    "c) Diameter <br/>\n",
    "d) Betweeness-centrality distribution <br/><br/>"
   ]
  },
  {
   "cell_type": "markdown",
   "metadata": {},
   "source": [
    "<b> Problem 8 : </b> Generate visualizations for the real networks read from the data files."
   ]
  },
  {
   "cell_type": "markdown",
   "metadata": {},
   "source": [
    "<b> Problem 9 : </b> Apply the three network models to try to produce networks that look like each one of the real datasets. <br/> <br/>\n",
    "\n",
    "Compare the results in terms of the metrics (degree distribution, average clustering coefficient etc. \n"
   ]
  }
 ],
 "metadata": {
  "kernelspec": {
   "display_name": "Python 2",
   "language": "python",
   "name": "python2"
  },
  "language_info": {
   "codemirror_mode": {
    "name": "ipython",
    "version": 2
   },
   "file_extension": ".py",
   "mimetype": "text/x-python",
   "name": "python",
   "nbconvert_exporter": "python",
   "pygments_lexer": "ipython2",
   "version": "2.7.6"
  }
 },
 "nbformat": 4,
 "nbformat_minor": 0
}
