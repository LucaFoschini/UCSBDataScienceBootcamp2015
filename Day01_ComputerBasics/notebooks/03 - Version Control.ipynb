{
 "cells": [
  {
   "cell_type": "markdown",
   "metadata": {},
   "source": [
    "# Why Version Control?\n",
    "\n",
    "Here's why."
   ]
  },
  {
   "cell_type": "code",
   "execution_count": 1,
   "metadata": {
    "collapsed": false
   },
   "outputs": [
    {
     "data": {
      "text/html": [
       "<img src=\"http://www.phdcomics.com/comics/archive/phd101212s.gif\"/>"
      ],
      "text/plain": [
       "<IPython.core.display.Image object>"
      ]
     },
     "execution_count": 1,
     "metadata": {},
     "output_type": "execute_result"
    }
   ],
   "source": [
    "from IPython.display import Image\n",
    "Image(url='http://www.phdcomics.com/comics/archive/phd101212s.gif')"
   ]
  },
  {
   "cell_type": "markdown",
   "metadata": {},
   "source": [
    "If that hasn't convinced you, here are some other benefits:\n",
    "\n",
    "http://stackoverflow.com/questions/1408450/why-should-i-use-version-control\n",
    "\n",
    "Replace 'code' in the first answer with 'essay', 'thesis', 'homework' -- all stuff that a version control system such as git and GitHub can help you with!"
   ]
  },
  {
   "cell_type": "markdown",
   "metadata": {},
   "source": [
    "## Git for Scientists: A Tutorial (by John McDonnell)\n",
    "\n",
    "http://nyuccl.org/pages/GitTutorial/\n",
    "\n",
    "Go through the tutorial. You can either follow along from the terminal in the command line, or from within this very notebook using the %%bash magic:"
   ]
  },
  {
   "cell_type": "code",
   "execution_count": 1,
   "metadata": {
    "collapsed": false
   },
   "outputs": [
    {
     "name": "stdout",
     "output_type": "stream",
     "text": [
      "# On branch master\n",
      "# Your branch is ahead of 'origin/master' by 4 commits.\n",
      "#\n",
      "# Changes not staged for commit:\n",
      "#   (use \"git add <file>...\" to update what will be committed)\n",
      "#   (use \"git checkout -- <file>...\" to discard changes in working directory)\n",
      "#\n",
      "#\tmodified:   ../Syllabus and Reading List.ipynb\n",
      "#\tmodified:   Version Control.ipynb\n",
      "#\n",
      "# Untracked files:\n",
      "#   (use \"git add <file>...\" to include in what will be committed)\n",
      "#\n",
      "#\t../.ipynb_checkpoints/\n",
      "#\t.ipynb_checkpoints/\n",
      "no changes added to commit (use \"git add\" and/or \"git commit -a\")\n"
     ]
    }
   ],
   "source": [
    "%%bash\n",
    "git status"
   ]
  },
  {
   "cell_type": "markdown",
   "metadata": {},
   "source": [
    "Starting a codeblock in the notebook environment with the magic phrase %%bash allows you to run terminal commands from within a notebook (more on that in the next section!)"
   ]
  },
  {
   "cell_type": "markdown",
   "metadata": {},
   "source": [
    "## Other great, similar resources:\n",
    "\n",
    "- by Fernando Perez:\n",
    "  http://nbviewer.ipython.org/github/fperez/reprosw/blob/master/Version%20Control.ipynb\n",
    "  \n",
    "- by Software Carpentry:\n",
    "  http://software-carpentry.org/v5/novice/git/index.html\n"
   ]
  },
  {
   "cell_type": "markdown",
   "metadata": {},
   "source": [
    "## Finally a Quick Command reference:\n",
    "\n",
    "http://software-carpentry.org/v5/novice/ref/02-git.html"
   ]
  },
  {
   "cell_type": "code",
   "execution_count": null,
   "metadata": {
    "collapsed": false
   },
   "outputs": [],
   "source": []
  }
 ],
 "metadata": {
  "kernelspec": {
   "display_name": "Python 2",
   "language": "python",
   "name": "python2"
  },
  "language_info": {
   "codemirror_mode": {
    "name": "ipython",
    "version": 2
   },
   "file_extension": ".py",
   "mimetype": "text/x-python",
   "name": "python",
   "nbconvert_exporter": "python",
   "pygments_lexer": "ipython2",
   "version": "2.7.10"
  }
 },
 "nbformat": 4,
 "nbformat_minor": 0
}
