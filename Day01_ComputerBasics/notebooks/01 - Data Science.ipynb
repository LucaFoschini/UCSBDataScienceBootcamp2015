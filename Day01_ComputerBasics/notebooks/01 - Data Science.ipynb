{
 "cells": [
  {
   "cell_type": "markdown",
   "metadata": {},
   "source": [
    "# Data Science\n",
    "\n",
    "What's that?"
   ]
  },
  {
   "cell_type": "code",
   "execution_count": 1,
   "metadata": {
    "collapsed": false
   },
   "outputs": [
    {
     "data": {
      "text/html": [
       "<img src=\"http://static.squarespace.com/static/5150aec6e4b0e340ec52710a/t/51525c33e4b0b3e0d10f77ab/1364352052403/Data_Science_VD.png?format=750w\"/>"
      ],
      "text/plain": [
       "<IPython.core.display.Image object>"
      ]
     },
     "execution_count": 1,
     "metadata": {},
     "output_type": "execute_result"
    }
   ],
   "source": [
    "from IPython.display import Image\n",
    "Image(url='http://static.squarespace.com/static/5150aec6e4b0e340ec52710a/t/51525c33e4b0b3e0d10f77ab/1364352052403/Data_Science_VD.png?format=750w')\n"
   ]
  },
  {
   "cell_type": "markdown",
   "metadata": {},
   "source": [
    "Read the full story:\n",
    "\n",
    "http://lucafoschini.com/notebooks/Agile%20Data%20Science%20Meetup.slides.html#/\n",
    "\n",
    "Source (Another feature of Notebooks: Make slides out of them!):\n",
    "\n",
    "https://github.com/LucaFoschini/lucafoschini.github.io/blob/master/notebooks/Agile%20Data%20Science%20Meetup.ipynb\n",
    "\n",
    "# Getting started\n",
    "\n",
    "This section focuses on the 'Hacking Skills' part of the Venn diagram -- we're going to get you up and running on Linux, using git and GitHub, and starting to work on Jupyter notebooks. This is all stuff which will be used for future sections in this bootcamp, so take notes! \n",
    "\n",
    "First up: opening the terminal. Either search for a program named 'terminal' on your computer (more on that in the links below), or use 'Applications (top left corner of your screen) -> System Tools -> Terminal'\n",
    "\n",
    "The terminal is a powerful and efficient replacement for the file explorer:\n"
   ]
  },
  {
   "cell_type": "code",
   "execution_count": 2,
   "metadata": {
    "collapsed": false
   },
   "outputs": [
    {
     "data": {
      "text/html": [
       "<img src=\"https://upload.wikimedia.org/wikipedia/en/c/cb/Windows_Explorer_Windows_7.png\"/>"
      ],
      "text/plain": [
       "<IPython.core.display.Image object>"
      ]
     },
     "execution_count": 2,
     "metadata": {},
     "output_type": "execute_result"
    }
   ],
   "source": [
    "Image(url='https://upload.wikimedia.org/wikipedia/en/c/cb/Windows_Explorer_Windows_7.png')"
   ]
  },
  {
   "cell_type": "markdown",
   "metadata": {},
   "source": [
    "\"In Unix, a word is worth a thousand clicks.\" Much like in a traditional file explorer, you will be located at a specific directory (e.g. 'Libraries' in the picture above), and can travel up and down through the directory structure, running or opening files with various programs. If you are new to the command line, or even just a little bit rusty, the following short introduction and tutorial will bring you up to speed:\n",
    "\n",
    "* Introduction: http://ryanstutorials.net/linuxtutorial/commandline.php\n",
    "\n",
    "* Tutorial: http://matt.might.net/articles/basic-unix/"
   ]
  },
  {
   "cell_type": "markdown",
   "metadata": {},
   "source": [
    "# Data Science from the command line\n",
    "\n",
    "The Unix terminal is a very powerful thing, and the comparison to a file explorer is unfair. Get a feel for how much you can do with so little by running through the following tutorial, until the 'awk' section:\n",
    "\n",
    "http://www.ibm.com/developerworks/aix/library/au-unixtext/\n",
    "\n",
    "Unix texutils can go a long way. Here are seven examples of powerful little tools that can be run from the terminal:\n",
    "\n",
    "http://jeroenjanssens.com/2013/09/19/seven-command-line-tools-for-data-science.html\n"
   ]
  },
  {
   "cell_type": "code",
   "execution_count": null,
   "metadata": {
    "collapsed": true
   },
   "outputs": [],
   "source": []
  }
 ],
 "metadata": {
  "kernelspec": {
   "display_name": "Python 2",
   "language": "python",
   "name": "python2"
  },
  "language_info": {
   "codemirror_mode": {
    "name": "ipython",
    "version": 2
   },
   "file_extension": ".py",
   "mimetype": "text/x-python",
   "name": "python",
   "nbconvert_exporter": "python",
   "pygments_lexer": "ipython2",
   "version": "2.7.10"
  }
 },
 "nbformat": 4,
 "nbformat_minor": 0
}
