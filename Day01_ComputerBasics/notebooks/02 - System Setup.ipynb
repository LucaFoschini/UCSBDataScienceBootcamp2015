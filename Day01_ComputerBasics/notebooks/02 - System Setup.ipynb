{
 "cells": [
  {
   "cell_type": "markdown",
   "metadata": {},
   "source": [
    "# Setting up Git and the Jupyter notebooks\n",
    "\n",
    "\n",
    "The workstations in Cooper lab are missing some of the programs we'll be using for the rest of the bootcamp, so we'll be using some resources remotely! Here's how, run the following commands in your newly mastered terminals:\n",
    "\n",
    "Disable ssl verification within git:\n",
    "\n",
    "    git config --global http.sslVerify false\n",
    "\n",
    "Make sure you are in your home directory:\n",
    "\n",
    "    cd\n",
    "    \n",
    "Clone this git repository to your computer:\n",
    "\n",
    "    git clone git://github.com/LucaFoschini/UCSBDataScienceBootcamp2015.git\n",
    "    \n",
    "Run a script to access some resources remotely:\n",
    "\n",
    "    cd UCSBDataScienceBootcamp2015/scripts\n",
    "    source restart_notebook.sh\n",
    "    \n",
    "If prompted, type in 'yes' to continue.\n",
    "    \n",
    "Google Chrome should now have started, with the notebook page loaded. \n",
    "If that is not the case, the terminal should give you instruction on how resolve your potential issues.\n",
    "\n",
    "From here, select Day01_ComputerBasics -> notebooks, and continue your lesson from \"03 - Version Control.ipynb\" to get started on git and Github! Good luck!"
   ]
  },
  {
   "cell_type": "code",
   "execution_count": null,
   "metadata": {
    "collapsed": true
   },
   "outputs": [],
   "source": []
  }
 ],
 "metadata": {
  "kernelspec": {
   "display_name": "Python 2",
   "language": "python",
   "name": "python2"
  },
  "language_info": {
   "codemirror_mode": {
    "name": "ipython",
    "version": 2
   },
   "file_extension": ".py",
   "mimetype": "text/x-python",
   "name": "python",
   "nbconvert_exporter": "python",
   "pygments_lexer": "ipython2",
   "version": "2.7.10"
  }
 },
 "nbformat": 4,
 "nbformat_minor": 0
}
